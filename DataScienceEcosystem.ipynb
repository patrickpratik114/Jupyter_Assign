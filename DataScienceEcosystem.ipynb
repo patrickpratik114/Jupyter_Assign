{
 "cells": [
  {
   "cell_type": "markdown",
   "id": "7b4871cb",
   "metadata": {},
   "source": [
    "# Data Science Tools and Ecosystems"
   ]
  },
  {
   "cell_type": "markdown",
   "id": "7cae4672",
   "metadata": {},
   "source": [
    "In this notebook, Data Science Tools and Ecosystem are summarized."
   ]
  },
  {
   "cell_type": "markdown",
   "id": "99030edd",
   "metadata": {},
   "source": [
    "Some of the popular languages that Data Scientists use are:\n",
    "1. Python\n",
    "2. R\n",
    "3. Scala\n",
    "4. SQL\n",
    "5. Matplotlib\n",
    "6. Numpy\n",
    "7. Pandas\n",
    "8. ggplot"
   ]
  },
  {
   "cell_type": "markdown",
   "id": "6b424918",
   "metadata": {},
   "source": [
    "|Data Science Tools|\n",
    "|------------------|\n",
    "|Jupyter|\n",
    "|R Studio|\n",
    "|Python IDE|"
   ]
  },
  {
   "attachments": {},
   "cell_type": "markdown",
   "id": "2cc27c4b",
   "metadata": {},
   "source": [
    "### Below are a few examples of evaluating arithmetic expressions in Python"
   ]
  },
  {
   "cell_type": "code",
   "execution_count": 3,
   "id": "14b1be4d",
   "metadata": {},
   "outputs": [
    {
     "name": "stdout",
     "output_type": "stream",
     "text": [
      "3\n"
     ]
    }
   ],
   "source": [
    "print(1+2)"
   ]
  },
  {
   "cell_type": "code",
   "execution_count": 4,
   "id": "124af1be",
   "metadata": {},
   "outputs": [
    {
     "name": "stdout",
     "output_type": "stream",
     "text": [
      "2\n"
     ]
    }
   ],
   "source": [
    "print(3-1)"
   ]
  },
  {
   "cell_type": "code",
   "execution_count": 5,
   "id": "3dcd22d7",
   "metadata": {},
   "outputs": [
    {
     "name": "stdout",
     "output_type": "stream",
     "text": [
      "4\n"
     ]
    }
   ],
   "source": [
    "print(2*2)"
   ]
  },
  {
   "cell_type": "code",
   "execution_count": 6,
   "id": "bd76086d",
   "metadata": {},
   "outputs": [
    {
     "name": "stdout",
     "output_type": "stream",
     "text": [
      "2.0\n"
     ]
    }
   ],
   "source": [
    "print(4/2)"
   ]
  },
  {
   "cell_type": "code",
   "execution_count": 7,
   "id": "42af8976",
   "metadata": {},
   "outputs": [
    {
     "name": "stdout",
     "output_type": "stream",
     "text": [
      "17\n"
     ]
    }
   ],
   "source": [
    "print((3*4)+5)\n",
    "#This a simple arithmetic expression to mutiply then add integers"
   ]
  },
  {
   "cell_type": "code",
   "execution_count": 8,
   "id": "4cfdace4",
   "metadata": {},
   "outputs": [
    {
     "name": "stdout",
     "output_type": "stream",
     "text": [
      "3.3333333333333335\n"
     ]
    }
   ],
   "source": [
    "print(200/60)\n",
    "#This will convert 200 minutes to hours by diving by 60"
   ]
  },
  {
   "cell_type": "markdown",
   "id": "0772b88d",
   "metadata": {},
   "source": [
    "**Objectives:**\n",
    "* Python\n",
    "* R\n",
    "* Scala\n",
    "* SQL"
   ]
  },
  {
   "cell_type": "markdown",
   "id": "086c78c5",
   "metadata": {},
   "source": [
    "## Author\n",
    "Pratik Shrestha"
   ]
  },
  {
   "cell_type": "code",
   "execution_count": null,
   "id": "7f75e791",
   "metadata": {},
   "outputs": [],
   "source": []
  }
 ],
 "metadata": {
  "kernelspec": {
   "display_name": "Python 3 (ipykernel)",
   "language": "python",
   "name": "python3"
  },
  "language_info": {
   "codemirror_mode": {
    "name": "ipython",
    "version": 3
   },
   "file_extension": ".py",
   "mimetype": "text/x-python",
   "name": "python",
   "nbconvert_exporter": "python",
   "pygments_lexer": "ipython3",
   "version": "3.11.5"
  }
 },
 "nbformat": 4,
 "nbformat_minor": 5
}
